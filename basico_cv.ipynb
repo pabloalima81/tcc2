{
  "nbformat": 4,
  "nbformat_minor": 0,
  "metadata": {
    "accelerator": "GPU",
    "colab": {
      "name": "basico_cv.ipynb",
      "provenance": [],
      "include_colab_link": true
    },
    "kernelspec": {
      "display_name": "Python 3",
      "name": "python3"
    },
    "language_info": {
      "name": "python"
    }
  },
  "cells": [
    {
      "cell_type": "markdown",
      "metadata": {
        "id": "view-in-github",
        "colab_type": "text"
      },
      "source": [
        "<a href=\"https://colab.research.google.com/github/pabloalima81/tcc2/blob/main/basico_cv.ipynb\" target=\"_parent\"><img src=\"https://colab.research.google.com/assets/colab-badge.svg\" alt=\"Open In Colab\"/></a>"
      ]
    },
    {
      "cell_type": "code",
      "metadata": {
        "colab": {
          "base_uri": "https://localhost:8080/"
        },
        "id": "I2vwd_AIeOqr",
        "outputId": "10e5c2d9-4cb5-48fe-b9c5-bdc54815b256"
      },
      "source": [
        "from google.colab import drive\n",
        "import zipfile\n",
        "drive.mount(\"/content/drive\")"
      ],
      "execution_count": null,
      "outputs": [
        {
          "output_type": "stream",
          "text": [
            "Mounted at /content/drive\n"
          ],
          "name": "stdout"
        }
      ]
    },
    {
      "cell_type": "code",
      "metadata": {
        "colab": {
          "background_save": true
        },
        "id": "uW-VwkQaeLPg"
      },
      "source": [
        "import numpy as np\n",
        "import math\n",
        "import re\n",
        "import pandas as pd\n",
        "from bs4 import BeautifulSoup\n",
        "import seaborn as sns\n",
        "import spacy as sp\n",
        "import string\n",
        "import random\n",
        "import matplotlib.pyplot as plt\n",
        "import nltk\n",
        "from tensorflow.keras import layers\n",
        "import tensorflow_datasets as tfds\n",
        "from sklearn.model_selection import train_test_split\n",
        "from sklearn.metrics import confusion_matrix\n",
        "from sklearn.model_selection import cross_val_score\n",
        "from sklearn.model_selection import GridSearchCV\n",
        "from sklearn.model_selection import RandomizedSearchCV\n",
        "from sklearn import datasets\n",
        "from sklearn.model_selection import StratifiedKFold\n",
        "from sklearn.metrics import accuracy_score, confusion_matrix\n",
        "%tensorflow_version 2.x\n",
        "import tensorflow as tf\n",
        "\n",
        "colunas = ['classe', 'noticias']\n",
        "\n",
        "data = pd.read_csv('/content/drive/My Drive/Colab Notebooks/cfn/Data/pre-processed.csv', header = None,\n",
        "                         names = colunas, engine = 'python', encoding = 'utf-8')\n",
        "\n",
        "noticias = data.iloc[:, 1].values\n",
        "\n",
        "classes = data.iloc[:, 0].values\n",
        "\n",
        "classes[classes == 'true'] = 1\n",
        "classes[classes == 'fake'] = 0\n",
        "\n",
        "tokenizer = tfds.deprecated.text.SubwordTextEncoder.build_from_corpus(noticias, target_vocab_size=70000)\n",
        "\n",
        "noticias = [tokenizer.encode(sentence) for sentence in noticias]\n",
        "\n",
        "max_len = max([len(sentence) for sentence in noticias])\n",
        "\n",
        "noticias = tf.keras.preprocessing.sequence.pad_sequences(noticias, \n",
        "                                                         value = 0, \n",
        "                                                         padding = 'post',\n",
        "                                                         maxlen=max_len)"
      ],
      "execution_count": null,
      "outputs": []
    },
    {
      "cell_type": "code",
      "metadata": {
        "colab": {
          "background_save": true
        },
        "id": "lc9T7QK5TIgw"
      },
      "source": [
        "class DCNN(tf.keras.Model):\n",
        "  \n",
        "  #0 Construtor da classe com passagem de parâmetros\n",
        "  def __init__(self,\n",
        "               vocab_size=67671, #Tamanho do vocabulário\n",
        "               emb_dim=128, # Tamanho da matriz de embbedings\n",
        "               nb_filters=100, #Número de filtros por região\n",
        "               ffn_units=512, #Feedforward - Número de neuronios da Rede neural densa\n",
        "               dropout_rate=0.5, #Zera percentual de neurônios para evitar overfetting\n",
        "               training=True,\n",
        "               name=\"dcnn\"):\n",
        "    super(DCNN, self).__init__(name=name)\n",
        "    #1 Gera matriz de palavras\n",
        "    self.embedding = layers.Embedding(vocab_size, emb_dim)\n",
        "    #2 Gera os filtros de tamanho 2\n",
        "    self.bigram = layers.Conv1D(filters=nb_filters, kernel_size=kernel_size1, padding='same', activation=activation)\n",
        "    #2.1 Gera os filtros de tamanho 3\n",
        "    self.trigram = layers.Conv1D(filters=nb_filters, kernel_size=kernel_size2, padding='same', activation=activation)\n",
        "    #2.2 Gera os filtros de tamanho 4\n",
        "    self.fourgram = layers.Conv1D(filters=nb_filters, kernel_size=kernel_size2, padding='same', activation=activation)\n",
        "    #3 Etapa de maxpooling\n",
        "    self.pool = layers.GlobalMaxPool1D()\n",
        "\n",
        "    #4 Rede neural densa com ffn_unit definindo o numero de neuronios e função de ativação relu\n",
        "    self.dense_1 = layers.Dense(units = ffn_units, activation = activation_dense)\n",
        "    #4.1 Passagem do parametro de dropout para evitar overfetting\n",
        "    self.dropout = layers.Dropout(rate = dropout_rate)\n",
        "    #4.2 Define a camada de saída com 1 bit e função de ativação sigmoid\n",
        "    self.last_dense = layers.Dense(units = 1, activation = activation_exit)\n",
        "\n",
        "  #Função que faz a \"conexão\" dos objetos da rede\n",
        "  def call(self, inputs, training):\n",
        "    #Matriz de palavras recebe o texto\n",
        "    x = self.embedding(inputs)\n",
        "    #Filtros da região 3 recebem a matriz de palavras\n",
        "    x_1 = self.bigram(x)\n",
        "    #Executa o maxpooling no bigram\n",
        "    x_1 = self.pool(x_1)\n",
        "    #Filtros da região 2 recebem a matriz de palavras\n",
        "    x_2 = self.trigram(x)\n",
        "    #Executa o maxpooling no trigram\n",
        "    x_2 = self.pool(x_2)\n",
        "    #Filtros da região 2 recebem a matriz de palavras\n",
        "    x_3 = self.fourgram(x)\n",
        "    #Executa o maxpooling no fourgram\n",
        "    x_3 = self.pool(x_3)\n",
        "    #Faz a concatenação após o max pooling\n",
        "    merged = tf.concat([x_1, x_2, x_3], axis = -1) # Return (batch_size, número de camadas (3) * nb_filters)\n",
        "    #A camada primeira camada densa recebe o vetor concatenado\n",
        "    merged = self.dense_1(merged)\n",
        "    #Zera uma porção dos neurônios\n",
        "    merged = self.dropout(merged, training)\n",
        "    #Liga a camada de dropout a camada de saída\n",
        "    output = self.last_dense(merged)\n",
        "  \n",
        "    return output"
      ],
      "execution_count": null,
      "outputs": []
    },
    {
      "cell_type": "code",
      "metadata": {
        "id": "nIZz3h5Vl1Ww"
      },
      "source": [
        "##Parametros\n",
        "vocab_size = tokenizer.vocab_size # vocabulário. Altura da matriz de embeddings. Palavras únicas\n",
        "emb_dim = 300 # largura da matriz de embeddings \n",
        "\n",
        "verbose = 1 #mostra informações enquanto executa\n",
        "#Tamanho dos filtros\n",
        "kernel_size1=2\n",
        "kernel_size2=3\n",
        "kernel_size3=4\n",
        "loss='binary_crossentropy' #Função de perda\n",
        "validation_split = 0.20 #percentual de validação durante treinamento\n",
        "activation='relu' #Função de ativação na camada de convolução\n",
        "activation_dense='relu' #Função de ativação na camada densa\n",
        "activation_exit='sigmoid' #Função de ativação para saída \n",
        "\n",
        "\n",
        "nb_filters = 100 # Número de filtros por região\n",
        "ffn_units = 250 # Número de neurônios na camada escondida (densa)\n",
        "dropout_rate = 0.2 # Percentual de inativação dos neurônios da camada densa. Evita overfitting\n",
        "batch_size_train = 260 # De quanto em quanto registro se atualiza os pesos. Tamanho da amostra de atualização no treino\n",
        "batch_size_val = 260 # De quanto em quanto registro se atualiza os pesos. Tamanho da amostra de atualização na validação\n",
        "nb_epochs = 5 # épocas de treinamento"
      ],
      "execution_count": null,
      "outputs": []
    },
    {
      "cell_type": "code",
      "metadata": {
        "cellView": "code",
        "colab": {
          "base_uri": "https://localhost:8080/"
        },
        "id": "4RFsnFMCfPFa",
        "outputId": "13bac689-51ad-40ca-9b04-d9822ea87be2"
      },
      "source": [
        "noticias = noticias.astype(np.int64)\n",
        "classes = classes.astype(np.int64)\n",
        "noticias.shape\n",
        "noticias.shape[0]\n",
        "b = np.zeros(shape=(noticias.shape[0], 1))\n",
        "\n",
        "print('Filtros por região: ',nb_filters)\n",
        "print('Neuronios na camada densa: ',ffn_units)\n",
        "print('Percentural de neuronios inativados:' ,dropout_rate)\n",
        "print('Tamanho do lote no treino:', batch_size_train)\n",
        "print('Tamanho do lote na validação:', batch_size_val)\n",
        "print('Número de épocas:', nb_epochs)\n",
        "\n",
        "kfold = StratifiedKFold(n_splits = 5, shuffle = True, random_state = 1)\n",
        "resultados = []\n",
        "matrizes = []\n",
        "history = []\n",
        "validacao=[]\n",
        "for indice_treinamento, indice_teste in kfold.split(noticias,\n",
        "                                                    np.zeros(shape=(noticias.shape[0], 1))):\n",
        "    Dcnn = DCNN(vocab_size=vocab_size, emb_dim=emb_dim, nb_filters=nb_filters,\n",
        "            ffn_units=ffn_units, dropout_rate=dropout_rate)\n",
        "    Dcnn.compile(loss='binary_crossentropy', optimizer='adam', metrics='accuracy')\n",
        "    historico = Dcnn.fit(noticias[indice_treinamento], classes[indice_treinamento],\n",
        "                        batch_size = batch_size_train,\n",
        "                        epochs = nb_epochs,\n",
        "                        verbose = 1,\n",
        "                        validation_split = validation_split)\n",
        "    precisao = Dcnn.evaluate(noticias[indice_teste], classes[indice_teste], batch_size = batch_size_val)\n",
        "    previsoes = Dcnn.predict(noticias[indice_teste])\n",
        "    previsoes = (previsoes > 0.5)\n",
        "    matrizes.append(confusion_matrix(classes[indice_teste], previsoes))\n",
        "    resultados.append(precisao)\n",
        "    history.append(historico)\n",
        "    precisao.append(validacao)\n",
        "print(matrizes)"
      ],
      "execution_count": null,
      "outputs": [
        {
          "output_type": "stream",
          "text": [
            "Filtros por região:  100\n",
            "Neuronios na camada densa:  500\n",
            "Percentural de neuronios inativados: 0.5\n",
            "Tamanho do lote no treino: 280\n",
            "Tamanho do lote na validação: 280\n",
            "Número de épocas: 5\n",
            "Epoch 1/5\n",
            "17/17 [==============================] - 70s 2s/step - loss: 0.6701 - accuracy: 0.5901 - val_loss: 0.5935 - val_accuracy: 0.8420\n",
            "Epoch 2/5\n",
            "17/17 [==============================] - 31s 2s/step - loss: 0.4192 - accuracy: 0.9242 - val_loss: 0.1504 - val_accuracy: 0.9488\n",
            "Epoch 3/5\n",
            "17/17 [==============================] - 31s 2s/step - loss: 0.0966 - accuracy: 0.9718 - val_loss: 0.1824 - val_accuracy: 0.9280\n",
            "Epoch 4/5\n",
            "17/17 [==============================] - 32s 2s/step - loss: 0.0319 - accuracy: 0.9926 - val_loss: 0.1793 - val_accuracy: 0.9358\n",
            "Epoch 5/5\n",
            "17/17 [==============================] - 32s 2s/step - loss: 0.0077 - accuracy: 0.9997 - val_loss: 0.1829 - val_accuracy: 0.9349\n",
            "6/6 [==============================] - 3s 539ms/step - loss: 0.1179 - accuracy: 0.9521\n",
            "Epoch 1/5\n",
            "17/17 [==============================] - 33s 2s/step - loss: 0.6666 - accuracy: 0.6206 - val_loss: 0.6874 - val_accuracy: 0.5608\n",
            "Epoch 2/5\n",
            "17/17 [==============================] - 32s 2s/step - loss: 0.3748 - accuracy: 0.9094 - val_loss: 0.2000 - val_accuracy: 0.9253\n",
            "Epoch 3/5\n",
            "17/17 [==============================] - 32s 2s/step - loss: 0.0875 - accuracy: 0.9719 - val_loss: 0.1859 - val_accuracy: 0.9323\n",
            "Epoch 4/5\n",
            "17/17 [==============================] - 32s 2s/step - loss: 0.0328 - accuracy: 0.9917 - val_loss: 0.0838 - val_accuracy: 0.9661\n",
            "Epoch 5/5\n",
            "17/17 [==============================] - 32s 2s/step - loss: 0.0108 - accuracy: 0.9991 - val_loss: 0.0956 - val_accuracy: 0.9644\n",
            "6/6 [==============================] - 3s 502ms/step - loss: 0.0947 - accuracy: 0.9701\n",
            "Epoch 1/5\n",
            "17/17 [==============================] - 34s 2s/step - loss: 0.6559 - accuracy: 0.6251 - val_loss: 0.4618 - val_accuracy: 0.9071\n",
            "Epoch 2/5\n",
            "17/17 [==============================] - 32s 2s/step - loss: 0.3159 - accuracy: 0.9339 - val_loss: 0.0992 - val_accuracy: 0.9627\n",
            "Epoch 3/5\n",
            "17/17 [==============================] - 33s 2s/step - loss: 0.0817 - accuracy: 0.9721 - val_loss: 0.1375 - val_accuracy: 0.9540\n",
            "Epoch 4/5\n",
            "17/17 [==============================] - 33s 2s/step - loss: 0.0256 - accuracy: 0.9946 - val_loss: 0.1075 - val_accuracy: 0.9618\n",
            "Epoch 5/5\n",
            "17/17 [==============================] - 32s 2s/step - loss: 0.0072 - accuracy: 0.9995 - val_loss: 0.1130 - val_accuracy: 0.9609\n",
            "6/6 [==============================] - 3s 507ms/step - loss: 0.1060 - accuracy: 0.9611\n",
            "Epoch 1/5\n",
            "17/17 [==============================] - 33s 2s/step - loss: 0.6634 - accuracy: 0.6089 - val_loss: 0.5897 - val_accuracy: 0.8116\n",
            "Epoch 2/5\n",
            "17/17 [==============================] - 33s 2s/step - loss: 0.3602 - accuracy: 0.9354 - val_loss: 0.2028 - val_accuracy: 0.9245\n",
            "Epoch 3/5\n",
            "17/17 [==============================] - 32s 2s/step - loss: 0.0899 - accuracy: 0.9696 - val_loss: 0.1572 - val_accuracy: 0.9462\n",
            "Epoch 4/5\n",
            "17/17 [==============================] - 32s 2s/step - loss: 0.0253 - accuracy: 0.9925 - val_loss: 0.1917 - val_accuracy: 0.9358\n",
            "Epoch 5/5\n",
            "17/17 [==============================] - 33s 2s/step - loss: 0.0069 - accuracy: 0.9995 - val_loss: 0.1868 - val_accuracy: 0.9427\n",
            "6/6 [==============================] - 3s 504ms/step - loss: 0.1446 - accuracy: 0.9479\n",
            "Epoch 1/5\n",
            "17/17 [==============================] - 33s 2s/step - loss: 0.6587 - accuracy: 0.6226 - val_loss: 0.5855 - val_accuracy: 0.7578\n",
            "Epoch 2/5\n",
            "17/17 [==============================] - 32s 2s/step - loss: 0.3096 - accuracy: 0.9379 - val_loss: 0.2278 - val_accuracy: 0.9045\n",
            "Epoch 3/5\n",
            "17/17 [==============================] - 32s 2s/step - loss: 0.0703 - accuracy: 0.9767 - val_loss: 0.0996 - val_accuracy: 0.9644\n",
            "Epoch 4/5\n",
            "17/17 [==============================] - 32s 2s/step - loss: 0.0273 - accuracy: 0.9942 - val_loss: 0.1775 - val_accuracy: 0.9323\n",
            "Epoch 5/5\n",
            "17/17 [==============================] - 32s 2s/step - loss: 0.0080 - accuracy: 0.9990 - val_loss: 0.1318 - val_accuracy: 0.9531\n",
            "6/6 [==============================] - 3s 509ms/step - loss: 0.1250 - accuracy: 0.9625\n",
            "[array([[691,  12],\n",
            "       [ 57, 680]]), array([[694,  21],\n",
            "       [ 22, 703]]), array([[706,  18],\n",
            "       [ 38, 678]]), array([[713,  16],\n",
            "       [ 59, 652]]), array([[715,  14],\n",
            "       [ 40, 671]])]\n"
          ],
          "name": "stdout"
        }
      ]
    },
    {
      "cell_type": "markdown",
      "metadata": {
        "id": "v8BDr4Hq9Lf0"
      },
      "source": [
        "#Análise dos Dados"
      ]
    },
    {
      "cell_type": "code",
      "metadata": {
        "colab": {
          "base_uri": "https://localhost:8080/",
          "height": 314
        },
        "id": "_mw0mYUspVev",
        "outputId": "564cb652-74df-45b8-9334-45340c704c16"
      },
      "source": [
        "plt.plot(history[0].history['loss'])\n",
        "plt.plot(history[0].history['val_loss'])\n",
        "plt.plot(history[1].history['loss'])\n",
        "plt.plot(history[1].history['val_loss'])\n",
        "plt.plot(history[2].history['loss'])\n",
        "plt.plot(history[2].history['val_loss'])\n",
        "plt.plot(history[3].history['loss'])\n",
        "plt.plot(history[3].history['val_loss'])\n",
        "plt.plot(history[4].history['loss'])\n",
        "plt.plot(history[4].history['val_loss'])\n",
        "plt.title('Progresso da função de perda do modelo durante o treinamento e validação')\n",
        "plt.xlabel('Épocas')\n",
        "plt.ylabel('Perda')\n",
        "plt.legend(['Perda no treino 1', 'Perda na validação 1'])"
      ],
      "execution_count": null,
      "outputs": [
        {
          "output_type": "execute_result",
          "data": {
            "text/plain": [
              "<matplotlib.legend.Legend at 0x7f997454a210>"
            ]
          },
          "metadata": {
            "tags": []
          },
          "execution_count": 11
        },
        {
          "output_type": "display_data",
          "data": {
            "image/png": "[encoded data removed]",
            "text/plain": [
              "<Figure size 432x288 with 1 Axes>"
            ]
          },
          "metadata": {
            "tags": []
          }
        }
      ]
    },
    {
      "cell_type": "code",
      "metadata": {
        "colab": {
          "base_uri": "https://localhost:8080/",
          "height": 314
        },
        "id": "vUD4ciNuvknR",
        "outputId": "b89d7634-2274-462e-cde1-5a124a26f2fc"
      },
      "source": [
        "plt.plot(history[0].history['accuracy'])\n",
        "plt.plot(history[0].history['val_accuracy'])\n",
        "plt.plot(history[1].history['accuracy'])\n",
        "plt.plot(history[1].history['val_accuracy'])\n",
        "plt.plot(history[2].history['accuracy'])\n",
        "plt.plot(history[2].history['val_accuracy'])\n",
        "plt.plot(history[3].history['accuracy'])\n",
        "plt.plot(history[3].history['val_accuracy'])\n",
        "plt.plot(history[4].history['accuracy'])\n",
        "plt.plot(history[4].history['val_accuracy'])\n",
        "plt.title('Acurácia durante o treinamento e validação')\n",
        "plt.xlabel('Épocas')\n",
        "plt.ylabel('Acurácia')\n",
        "plt.legend(['Acurácia no treino', 'Acurácia na validação'])"
      ],
      "execution_count": null,
      "outputs": [
        {
          "output_type": "execute_result",
          "data": {
            "text/plain": [
              "<matplotlib.legend.Legend at 0x7f997349bc50>"
            ]
          },
          "metadata": {
            "tags": []
          },
          "execution_count": 12
        },
        {
          "output_type": "display_data",
          "data": {
            "image/png": "[encoded data removed]",
            "text/plain": [
              "<Figure size 432x288 with 1 Axes>"
            ]
          },
          "metadata": {
            "tags": []
          }
        }
      ]
    },
    {
      "cell_type": "code",
      "metadata": {
        "colab": {
          "base_uri": "https://localhost:8080/"
        },
        "id": "L4ugCm67zFDv",
        "outputId": "0e19e520-d54a-48fb-c590-045e56d6700f"
      },
      "source": [
        "from sklearn import metrics\n",
        "\n",
        "fpr, tpr, thresholds = metrics.roc_curve(classes[indice_teste], previsoes, pos_label=2)\n",
        "metrics.auc(fpr, tpr)"
      ],
      "execution_count": null,
      "outputs": [
        {
          "output_type": "stream",
          "text": [
            "/usr/local/lib/python3.7/dist-packages/sklearn/metrics/_ranking.py:808: UndefinedMetricWarning: No positive samples in y_true, true positive value should be meaningless\n",
            "  UndefinedMetricWarning)\n"
          ],
          "name": "stderr"
        },
        {
          "output_type": "execute_result",
          "data": {
            "text/plain": [
              "nan"
            ]
          },
          "metadata": {
            "tags": []
          },
          "execution_count": 25
        }
      ]
    },
    {
      "cell_type": "code",
      "metadata": {
        "colab": {
          "base_uri": "https://localhost:8080/",
          "height": 298
        },
        "id": "J7NhjGL4waJi",
        "outputId": "32effa16-e271-4bf6-82b0-5776b1a7ef1f"
      },
      "source": [
        "sns.heatmap(matrizes[0], annot=True)\n",
        "plt.title('Matriz de confusão do classificador')"
      ],
      "execution_count": null,
      "outputs": [
        {
          "output_type": "execute_result",
          "data": {
            "text/plain": [
              "Text(0.5, 1.0, 'Matriz de confusão do classificador')"
            ]
          },
          "metadata": {
            "tags": []
          },
          "execution_count": 22
        },
        {
          "output_type": "display_data",
          "data": {
            "image/png": "[encoded data removed]",
            "text/plain": [
              "<Figure size 432x288 with 2 Axes>"
            ]
          },
          "metadata": {
            "tags": []
          }
        }
      ]
    },
    {
      "cell_type": "markdown",
      "metadata": {
        "id": "_LEzZQo550eN"
      },
      "source": [
        "#Novas Previsões"
      ]
    },
    {
      "cell_type": "code",
      "metadata": {
        "id": "L92O5gdv5227"
      },
      "source": [
        "#Remove caracteres especiais\n",
        "\n",
        "def clean_text(text):\n",
        "  text = BeautifulSoup(text, 'lxml').get_text()\n",
        "  text = re.sub(r\"@[A-Za-z0-9]+\", ' ', text)\n",
        "  text = re.sub(r\"https?://[A-Za-z0-9./]+\", ' ', text)\n",
        "  text = re.sub(r\"[^a-zA-Z.!?]\", ' ', text)\n",
        "  text = re.sub(r\" +\", ' ', text)\n",
        "  return text"
      ],
      "execution_count": null,
      "outputs": []
    },
    {
      "cell_type": "code",
      "metadata": {
        "colab": {
          "base_uri": "https://localhost:8080/"
        },
        "id": "XpYh9hxv59L8",
        "outputId": "c38e3a5c-baf0-4ab4-adaf-3dec67810de4"
      },
      "source": [
        "#remove Stopwords\n",
        "\n",
        "!python -m spacy download pt\n",
        "nlp = sp.load('pt')\n",
        "nltk.download('stopwords')\n",
        "stopwords = nltk.corpus.stopwords.words('portuguese')\n",
        "\n",
        "def clean_sw(text):\n",
        "  text = text.lower()\n",
        "  document = nlp(text)\n",
        "\n",
        "  words = []\n",
        "  for token in document:\n",
        "    words.append(token.text)\n",
        "\n",
        "  words = [word for word in words if word not in stopwords and word not in string.punctuation]\n",
        "  words = ' '.join([str(element) for element in words])\n",
        "\n",
        "  return text"
      ],
      "execution_count": null,
      "outputs": [
        {
          "output_type": "stream",
          "text": [
            "Requirement already satisfied: pt_core_news_sm==2.2.5 from https://github.com/explosion/spacy-models/releases/download/pt_core_news_sm-2.2.5/pt_core_news_sm-2.2.5.tar.gz#egg=pt_core_news_sm==2.2.5 in /usr/local/lib/python3.7/dist-packages (2.2.5)\n",
            "Requirement already satisfied: spacy>=2.2.2 in /usr/local/lib/python3.7/dist-packages (from pt_core_news_sm==2.2.5) (2.2.4)\n",
            "Requirement already satisfied: srsly<1.1.0,>=1.0.2 in /usr/local/lib/python3.7/dist-packages (from spacy>=2.2.2->pt_core_news_sm==2.2.5) (1.0.5)\n",
            "Requirement already satisfied: thinc==7.4.0 in /usr/local/lib/python3.7/dist-packages (from spacy>=2.2.2->pt_core_news_sm==2.2.5) (7.4.0)\n",
            "Requirement already satisfied: plac<1.2.0,>=0.9.6 in /usr/local/lib/python3.7/dist-packages (from spacy>=2.2.2->pt_core_news_sm==2.2.5) (1.1.3)\n",
            "Requirement already satisfied: numpy>=1.15.0 in /usr/local/lib/python3.7/dist-packages (from spacy>=2.2.2->pt_core_news_sm==2.2.5) (1.19.5)\n",
            "Requirement already satisfied: setuptools in /usr/local/lib/python3.7/dist-packages (from spacy>=2.2.2->pt_core_news_sm==2.2.5) (56.0.0)\n",
            "Requirement already satisfied: catalogue<1.1.0,>=0.0.7 in /usr/local/lib/python3.7/dist-packages (from spacy>=2.2.2->pt_core_news_sm==2.2.5) (1.0.0)\n",
            "Requirement already satisfied: murmurhash<1.1.0,>=0.28.0 in /usr/local/lib/python3.7/dist-packages (from spacy>=2.2.2->pt_core_news_sm==2.2.5) (1.0.5)\n",
            "Requirement already satisfied: wasabi<1.1.0,>=0.4.0 in /usr/local/lib/python3.7/dist-packages (from spacy>=2.2.2->pt_core_news_sm==2.2.5) (0.8.2)\n",
            "Requirement already satisfied: tqdm<5.0.0,>=4.38.0 in /usr/local/lib/python3.7/dist-packages (from spacy>=2.2.2->pt_core_news_sm==2.2.5) (4.41.1)\n",
            "Requirement already satisfied: blis<0.5.0,>=0.4.0 in /usr/local/lib/python3.7/dist-packages (from spacy>=2.2.2->pt_core_news_sm==2.2.5) (0.4.1)\n",
            "Requirement already satisfied: preshed<3.1.0,>=3.0.2 in /usr/local/lib/python3.7/dist-packages (from spacy>=2.2.2->pt_core_news_sm==2.2.5) (3.0.5)\n",
            "Requirement already satisfied: cymem<2.1.0,>=2.0.2 in /usr/local/lib/python3.7/dist-packages (from spacy>=2.2.2->pt_core_news_sm==2.2.5) (2.0.5)\n",
            "Requirement already satisfied: requests<3.0.0,>=2.13.0 in /usr/local/lib/python3.7/dist-packages (from spacy>=2.2.2->pt_core_news_sm==2.2.5) (2.23.0)\n",
            "Requirement already satisfied: importlib-metadata>=0.20; python_version < \"3.8\" in /usr/local/lib/python3.7/dist-packages (from catalogue<1.1.0,>=0.0.7->spacy>=2.2.2->pt_core_news_sm==2.2.5) (3.10.1)\n",
            "Requirement already satisfied: idna<3,>=2.5 in /usr/local/lib/python3.7/dist-packages (from requests<3.0.0,>=2.13.0->spacy>=2.2.2->pt_core_news_sm==2.2.5) (2.10)\n",
            "Requirement already satisfied: certifi>=2017.4.17 in /usr/local/lib/python3.7/dist-packages (from requests<3.0.0,>=2.13.0->spacy>=2.2.2->pt_core_news_sm==2.2.5) (2020.12.5)\n",
            "Requirement already satisfied: chardet<4,>=3.0.2 in /usr/local/lib/python3.7/dist-packages (from requests<3.0.0,>=2.13.0->spacy>=2.2.2->pt_core_news_sm==2.2.5) (3.0.4)\n",
            "Requirement already satisfied: urllib3!=1.25.0,!=1.25.1,<1.26,>=1.21.1 in /usr/local/lib/python3.7/dist-packages (from requests<3.0.0,>=2.13.0->spacy>=2.2.2->pt_core_news_sm==2.2.5) (1.24.3)\n",
            "Requirement already satisfied: zipp>=0.5 in /usr/local/lib/python3.7/dist-packages (from importlib-metadata>=0.20; python_version < \"3.8\"->catalogue<1.1.0,>=0.0.7->spacy>=2.2.2->pt_core_news_sm==2.2.5) (3.4.1)\n",
            "Requirement already satisfied: typing-extensions>=3.6.4; python_version < \"3.8\" in /usr/local/lib/python3.7/dist-packages (from importlib-metadata>=0.20; python_version < \"3.8\"->catalogue<1.1.0,>=0.0.7->spacy>=2.2.2->pt_core_news_sm==2.2.5) (3.7.4.3)\n",
            "\u001b[38;5;2m✔ Download and installation successful\u001b[0m\n",
            "You can now load the model via spacy.load('pt_core_news_sm')\n",
            "\u001b[38;5;2m✔ Linking successful\u001b[0m\n",
            "/usr/local/lib/python3.7/dist-packages/pt_core_news_sm -->\n",
            "/usr/local/lib/python3.7/dist-packages/spacy/data/pt\n",
            "You can now load the model via spacy.load('pt')\n",
            "[nltk_data] Downloading package stopwords to /root/nltk_data...\n",
            "[nltk_data]   Package stopwords is already up-to-date!\n"
          ],
          "name": "stdout"
        }
      ]
    },
    {
      "cell_type": "code",
      "metadata": {
        "colab": {
          "base_uri": "https://localhost:8080/"
        },
        "id": "usiUDofS6UI8",
        "outputId": "8b51a743-9ac3-4919-e7b5-33ddfaed37e6"
      },
      "source": [
        "text = 'Tristemente, como alguem pode votar em boulos. Joice merecia mais votos que ele outros no ranking. Isso se não teve fraude a eleicao em sp esta congelada em'\n",
        "text = clean_text(clean_sw(text))\n",
        "print(text)\n",
        "text = tokenizer.encode(text)"
      ],
      "execution_count": null,
      "outputs": [
        {
          "output_type": "stream",
          "text": [
            "tristemente como alguem pode votar em boulos. joice merecia mais votos que ele outros no ranking. isso se n o teve fraude a eleicao em sp esta congelada em\n"
          ],
          "name": "stdout"
        }
      ]
    },
    {
      "cell_type": "code",
      "metadata": {
        "colab": {
          "base_uri": "https://localhost:8080/"
        },
        "id": "yP0Q5dcO6a7M",
        "outputId": "45c0a575-b010-40e0-9d6c-48aae5a28812"
      },
      "source": [
        "pred= Dcnn(np.array([text]), training=False).numpy()\n",
        "pred = (pred >0.5)\n",
        "print(pred)"
      ],
      "execution_count": null,
      "outputs": [
        {
          "output_type": "stream",
          "text": [
            "[[ True]]\n"
          ],
          "name": "stdout"
        }
      ]
    },
    {
      "cell_type": "code",
      "metadata": {
        "id": "K8iOMvMP6GOJ"
      },
      "source": [
        ""
      ],
      "execution_count": null,
      "outputs": []
    },
    {
      "cell_type": "code",
      "metadata": {
        "id": "SEt3F-vx6GME"
      },
      "source": [
        ""
      ],
      "execution_count": null,
      "outputs": []
    },
    {
      "cell_type": "markdown",
      "metadata": {
        "id": "-GZ6hjeW50YY"
      },
      "source": [
        ""
      ]
    }
  ]
}