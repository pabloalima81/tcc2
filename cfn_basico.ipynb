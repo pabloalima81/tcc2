{
  "nbformat": 4,
  "nbformat_minor": 0,
  "metadata": {
    "accelerator": "GPU",
    "colab": {
      "name": "cfn_basico.ipynb",
      "provenance": [],
      "include_colab_link": true
    },
    "kernelspec": {
      "display_name": "Python 3",
      "name": "python3"
    },
    "language_info": {
      "name": "python"
    }
  },
  "cells": [
    {
      "cell_type": "markdown",
      "metadata": {
        "id": "view-in-github",
        "colab_type": "text"
      },
      "source": [
        "<a href=\"https://colab.research.google.com/github/pabloalima81/tcc2/blob/main/cfn_basico.ipynb\" target=\"_parent\"><img src=\"https://colab.research.google.com/assets/colab-badge.svg\" alt=\"Open In Colab\"/></a>"
      ]
    },
    {
      "cell_type": "code",
      "metadata": {
        "id": "I2vwd_AIeOqr",
        "colab": {
          "base_uri": "https://localhost:8080/"
        },
        "outputId": "c2e021c4-0e7d-4c2a-8b8c-87e12b628811"
      },
      "source": [
        "from google.colab import drive\n",
        "import zipfile\n",
        "drive.mount(\"/content/drive\")"
      ],
      "execution_count": 1,
      "outputs": [
        {
          "output_type": "stream",
          "name": "stdout",
          "text": [
            "Mounted at /content/drive\n"
          ]
        }
      ]
    },
    {
      "cell_type": "code",
      "metadata": {
        "id": "uW-VwkQaeLPg"
      },
      "source": [
        "import numpy as np\n",
        "import math\n",
        "import re\n",
        "import pandas as pd\n",
        "from bs4 import BeautifulSoup\n",
        "import seaborn as sns\n",
        "import spacy as sp\n",
        "import string\n",
        "import random\n",
        "import matplotlib.pyplot as plt\n",
        "import nltk\n",
        "from tensorflow.keras import layers\n",
        "import tensorflow_datasets as tfds\n",
        "from sklearn.model_selection import train_test_split\n",
        "from sklearn.metrics import confusion_matrix\n",
        "from sklearn.model_selection import cross_val_score\n",
        "from sklearn.model_selection import GridSearchCV\n",
        "from sklearn.model_selection import RandomizedSearchCV\n",
        "from sklearn import datasets\n",
        "from sklearn.model_selection import StratifiedKFold\n",
        "from sklearn.metrics import accuracy_score, confusion_matrix\n",
        "%tensorflow_version 2.x\n",
        "import tensorflow as tf\n",
        "from keras.wrappers.scikit_learn import KerasClassifier\n",
        "from keras.models import Sequential\n",
        "from keras.layers import Dense, Dropout, Flatten, Conv2D, MaxPooling2D, Activation\n",
        "\n",
        "colunas = ['classe', 'noticias']\n",
        "\n",
        "data = pd.read_csv('/content/drive/My Drive/Colab Notebooks/cfn/Data/pre-processed.csv', header = None,\n",
        "                         names = colunas, engine = 'python', encoding = 'utf-8')\n",
        "\n",
        "noticias = data.iloc[:, 1].values\n",
        "\n",
        "classes = data.iloc[:, 0].values\n",
        "\n",
        "classes[classes == 'true'] = 1\n",
        "classes[classes == 'fake'] = 0\n",
        "\n",
        "tokenizer = tfds.deprecated.text.SubwordTextEncoder.build_from_corpus(noticias, target_vocab_size=70000)\n",
        "\n",
        "noticias = [tokenizer.encode(sentence) for sentence in noticias]\n",
        "\n",
        "max_len = max([len(sentence) for sentence in noticias])\n",
        "\n",
        "noticias = tf.keras.preprocessing.sequence.pad_sequences(noticias, \n",
        "                                                         value = 0, \n",
        "                                                         padding = 'post',\n",
        "                                                         maxlen=max_len)\n",
        "\n",
        "noticias_train, noticias_test, classes_train, classes_test = train_test_split(noticias, classes, \n",
        "                                                    test_size = 0.20, \n",
        "                                                    stratify = classes) # classes balanceadas"
      ],
      "execution_count": 2,
      "outputs": []
    },
    {
      "cell_type": "code",
      "metadata": {
        "colab": {
          "base_uri": "https://localhost:8080/"
        },
        "id": "23BCLwaGg0ro",
        "outputId": "bc07baa5-8cb2-4665-a29e-98a5f2caf8f5"
      },
      "source": [
        "# Verifica a divisão dos dados\n",
        "\n",
        "# Treinamento\n",
        "print(noticias_train.shape) # noticia\n",
        "print(classes_train.shape) # classe\n",
        "\n",
        "# Teste\n",
        "print(noticias_test.shape) # noticia\n",
        "print(classes_test.shape) # classe"
      ],
      "execution_count": 3,
      "outputs": [
        {
          "output_type": "stream",
          "name": "stdout",
          "text": [
            "(5760, 4324)\n",
            "(5760,)\n",
            "(1440, 4324)\n",
            "(1440,)\n"
          ]
        }
      ]
    },
    {
      "cell_type": "code",
      "metadata": {
        "id": "lc9T7QK5TIgw"
      },
      "source": [
        "class DCNN(tf.keras.Model):\n",
        "  \n",
        "  #0 Construtor da classe com passagem de parâmetros\n",
        "  def __init__(self,\n",
        "               vocab_size=67671, #Tamanho do vocabulário\n",
        "               emb_dim=128, # Tamanho da matriz de embbedings\n",
        "               nb_filters=100, #Número de filtros por região\n",
        "               ffn_units=512, #Feedforward - Número de neuronios da Rede neural densa\n",
        "               dropout_rate=0.5, #Zera percentual de neurônios para evitar overfetting\n",
        "               training=True,\n",
        "               name=\"dcnn\"):\n",
        "    super(DCNN, self).__init__(name=name)\n",
        "    #1 Gera matriz de palavras\n",
        "    self.embedding = layers.Embedding(vocab_size, emb_dim)\n",
        "    #2 Gera os filtros de tamanho 2\n",
        "    self.bigram = layers.Conv1D(filters=nb_filters, kernel_size=kernel_size1, padding='same')#, activation=activation)\n",
        "    #2.1 Gera os filtros de tamanho 3\n",
        "    self.trigram = layers.Conv1D(filters=nb_filters, kernel_size=kernel_size2, padding='same')#, activation=activation)\n",
        "    #2.2 Gera os filtros de tamanho 4\n",
        "    self.fourgram = layers.Conv1D(filters=nb_filters, kernel_size=kernel_size2, padding='same')#, activation=activation)\n",
        "    #3 Etapa de maxpooling\n",
        "    self.pool = layers.GlobalMaxPool1D()\n",
        "\n",
        "    #4 Rede neural densa com ffn_unit definindo o numero de neuronios e função de ativação relu\n",
        "    self.dense_1 = layers.Dense(units = ffn_units)#, activation = activation_dense)\n",
        "    #4.1 Passagem do parametro de dropout para evitar overfetting\n",
        "    self.dropout = layers.Dropout(rate = dropout_rate)\n",
        "    #4.2 Define a camada de saída com 1 bit e função de ativação sigmoid\n",
        "    self.last_dense = layers.Dense(units = 1, activation = activation_exit)\n",
        "\n",
        "  #Função que faz a \"conexão\" dos objetos da rede\n",
        "  def call(self, inputs, training):\n",
        "    #Matriz de palavras recebe o texto\n",
        "    x = self.embedding(inputs)\n",
        "    #Filtros da região 3 recebem a matriz de palavras\n",
        "    x_1 = self.bigram(x)\n",
        "    #Executa o maxpooling no bigram\n",
        "    x_1 = self.pool(x_1)\n",
        "    #Filtros da região 2 recebem a matriz de palavras\n",
        "    x_2 = self.trigram(x)\n",
        "    #Executa o maxpooling no trigram\n",
        "    x_2 = self.pool(x_2)\n",
        "    #Filtros da região 2 recebem a matriz de palavras\n",
        "    x_3 = self.fourgram(x)\n",
        "    #Executa o maxpooling no fourgram\n",
        "    x_3 = self.pool(x_3)\n",
        "    #Faz a concatenação após o max pooling\n",
        "    merged = tf.concat([x_1, x_2, x_3], axis = -1) # Return (batch_size, número de camadas (3) * nb_filters)\n",
        "    #A camada primeira camada densa recebe o vetor concatenado\n",
        "    merged = self.dense_1(merged)\n",
        "    #Zera uma porção dos neurônios\n",
        "    merged = self.dropout(merged, training)\n",
        "    #Liga a camada de dropout a camada de saída\n",
        "    output = self.last_dense(merged)\n",
        "  \n",
        "    return output"
      ],
      "execution_count": 4,
      "outputs": []
    },
    {
      "cell_type": "code",
      "metadata": {
        "id": "80Xj1lEIifvA"
      },
      "source": [
        "##Parametros\n",
        "vocab_size = tokenizer.vocab_size # vocabulário. Altura da matriz de embeddings. Palavras únicas\n",
        "emb_dim = 300 # largura da matriz de embeddings \n",
        "\n",
        "verbose = 1 #mostra informações enquanto executa\n",
        "#Tamanho dos filtros\n",
        "kernel_size1=2\n",
        "kernel_size2=3\n",
        "kernel_size3=4\n",
        "loss='binary_crossentropy' #Função de perda\n",
        "validation_split = 0.20 #percentual de validação durante treinamento\n",
        "activation='relu' #Função de ativação na camada de convolução\n",
        "activation_dense='relu' #Função de ativação na camada densa\n",
        "activation_exit='sigmoid' #Função de ativação para saída \n",
        "\n",
        "\n",
        "nb_filters = 50 # Número de filtros por região\n",
        "ffn_units = 102 # Número de neurônios na camada escondida (densa)\n",
        "dropout_rate = 0.2 # Percentual de inativação dos neurônios da camada densa. Evita overfitting\n",
        "batch_size_train = 120 # De quanto em quanto registro se atualiza os pesos. Tamanho da amostra de atualização no treino\n",
        "batch_size_val = 24 # De quanto em quanto registro se atualiza os pesos. Tamanho da amostra de atualização na validação\n",
        "nb_epochs = 100 # épocas de treinamento"
      ],
      "execution_count": 21,
      "outputs": []
    },
    {
      "cell_type": "code",
      "metadata": {
        "id": "ffBcFs_hbKrW"
      },
      "source": [
        "noticias_train = noticias_train.astype(np.int64)\n",
        "classes_train = classes_train.astype(np.int64)"
      ],
      "execution_count": 23,
      "outputs": []
    },
    {
      "cell_type": "code",
      "metadata": {
        "id": "xghfbTSA02VH"
      },
      "source": [
        "noticias_train, noticias_test, classes_train, classes_test = train_test_split(noticias, classes, \n",
        "                                                    test_size = 0.20, \n",
        "                                                    stratify = classes) # classes balanceadas"
      ],
      "execution_count": 14,
      "outputs": []
    },
    {
      "cell_type": "code",
      "metadata": {
        "colab": {
          "base_uri": "https://localhost:8080/"
        },
        "id": "LdAwryFH2ljh",
        "outputId": "7c7a093e-ae48-44a6-e71f-32c477a4c7e6"
      },
      "source": [
        "print('Filtros por região: ',nb_filters)\n",
        "print('Neuronios na camada densa: ',ffn_units)\n",
        "print('Percentural de neuronios inativados:' ,dropout_rate)\n",
        "print('Tamanho do lote no treino:', batch_size_train)\n",
        "print('Tamanho do lote na validação:', batch_size_val)\n",
        "print('Número de épocas:', nb_epochs)\n",
        "print('Ativação', activation)\n",
        "\n",
        "Dcnn = DCNN(vocab_size=vocab_size, emb_dim=emb_dim, nb_filters=nb_filters,\n",
        "              ffn_units=ffn_units, dropout_rate=dropout_rate)\n",
        "Dcnn.compile(loss='binary_crossentropy', optimizer='adam', metrics='accuracy')\n",
        "historico = Dcnn.fit(noticias_train, classes_train,\n",
        "                          batch_size = batch_size_train,\n",
        "                          epochs = nb_epochs,\n",
        "                          verbose = 1,\n",
        "                          validation_split = validation_split)"
      ],
      "execution_count": 24,
      "outputs": [
        {
          "output_type": "stream",
          "name": "stdout",
          "text": [
            "Filtros por região:  50\n",
            "Neuronios na camada densa:  102\n",
            "Percentural de neuronios inativados: 0.2\n",
            "Tamanho do lote no treino: 120\n",
            "Tamanho do lote na validação: 24\n",
            "Número de épocas: 100\n",
            "Ativação relu\n",
            "Epoch 1/100\n",
            "39/39 [==============================] - 63s 750ms/step - loss: 0.4331 - accuracy: 0.8372 - val_loss: 0.1370 - val_accuracy: 0.9557\n",
            "Epoch 2/100\n",
            "39/39 [==============================] - 27s 691ms/step - loss: 0.0726 - accuracy: 0.9757 - val_loss: 0.1119 - val_accuracy: 0.9670\n",
            "Epoch 3/100\n",
            "39/39 [==============================] - 27s 689ms/step - loss: 0.0159 - accuracy: 0.9978 - val_loss: 0.1030 - val_accuracy: 0.9627\n",
            "Epoch 4/100\n",
            "39/39 [==============================] - 27s 689ms/step - loss: 0.0038 - accuracy: 0.9998 - val_loss: 0.1111 - val_accuracy: 0.9566\n",
            "Epoch 5/100\n",
            "39/39 [==============================] - 27s 690ms/step - loss: 0.0016 - accuracy: 1.0000 - val_loss: 0.1121 - val_accuracy: 0.9557\n",
            "Epoch 6/100\n",
            "39/39 [==============================] - 27s 689ms/step - loss: 9.2991e-04 - accuracy: 1.0000 - val_loss: 0.1150 - val_accuracy: 0.9566\n",
            "Epoch 7/100\n",
            "39/39 [==============================] - 27s 688ms/step - loss: 6.4447e-04 - accuracy: 1.0000 - val_loss: 0.1149 - val_accuracy: 0.9583\n",
            "Epoch 8/100\n",
            "39/39 [==============================] - 27s 689ms/step - loss: 4.8125e-04 - accuracy: 1.0000 - val_loss: 0.1158 - val_accuracy: 0.9592\n",
            "Epoch 9/100\n",
            "39/39 [==============================] - 27s 689ms/step - loss: 3.7171e-04 - accuracy: 1.0000 - val_loss: 0.1171 - val_accuracy: 0.9601\n",
            "Epoch 10/100\n",
            "39/39 [==============================] - 27s 689ms/step - loss: 2.8883e-04 - accuracy: 1.0000 - val_loss: 0.1184 - val_accuracy: 0.9601\n",
            "Epoch 11/100\n",
            "39/39 [==============================] - 27s 689ms/step - loss: 2.3734e-04 - accuracy: 1.0000 - val_loss: 0.1193 - val_accuracy: 0.9609\n",
            "Epoch 12/100\n",
            "39/39 [==============================] - 27s 689ms/step - loss: 1.9648e-04 - accuracy: 1.0000 - val_loss: 0.1205 - val_accuracy: 0.9618\n",
            "Epoch 13/100\n",
            "39/39 [==============================] - 27s 690ms/step - loss: 1.6756e-04 - accuracy: 1.0000 - val_loss: 0.1211 - val_accuracy: 0.9618\n",
            "Epoch 14/100\n",
            "39/39 [==============================] - 27s 689ms/step - loss: 1.4863e-04 - accuracy: 1.0000 - val_loss: 0.1223 - val_accuracy: 0.9618\n",
            "Epoch 15/100\n",
            "39/39 [==============================] - 27s 688ms/step - loss: 1.3035e-04 - accuracy: 1.0000 - val_loss: 0.1228 - val_accuracy: 0.9618\n",
            "Epoch 16/100\n",
            "39/39 [==============================] - 27s 689ms/step - loss: 1.0966e-04 - accuracy: 1.0000 - val_loss: 0.1241 - val_accuracy: 0.9618\n",
            "Epoch 17/100\n",
            "39/39 [==============================] - 27s 689ms/step - loss: 1.0060e-04 - accuracy: 1.0000 - val_loss: 0.1249 - val_accuracy: 0.9618\n",
            "Epoch 18/100\n",
            "39/39 [==============================] - 27s 690ms/step - loss: 9.1556e-05 - accuracy: 1.0000 - val_loss: 0.1255 - val_accuracy: 0.9618\n",
            "Epoch 19/100\n",
            "39/39 [==============================] - 27s 689ms/step - loss: 8.0376e-05 - accuracy: 1.0000 - val_loss: 0.1257 - val_accuracy: 0.9618\n",
            "Epoch 20/100\n",
            "39/39 [==============================] - 27s 689ms/step - loss: 7.0274e-05 - accuracy: 1.0000 - val_loss: 0.1268 - val_accuracy: 0.9618\n",
            "Epoch 21/100\n",
            "39/39 [==============================] - 27s 689ms/step - loss: 6.7602e-05 - accuracy: 1.0000 - val_loss: 0.1276 - val_accuracy: 0.9618\n",
            "Epoch 22/100\n",
            "39/39 [==============================] - 27s 687ms/step - loss: 5.8935e-05 - accuracy: 1.0000 - val_loss: 0.1280 - val_accuracy: 0.9618\n",
            "Epoch 23/100\n",
            "39/39 [==============================] - 27s 689ms/step - loss: 5.5550e-05 - accuracy: 1.0000 - val_loss: 0.1288 - val_accuracy: 0.9618\n",
            "Epoch 24/100\n",
            "39/39 [==============================] - 27s 689ms/step - loss: 5.0390e-05 - accuracy: 1.0000 - val_loss: 0.1292 - val_accuracy: 0.9618\n",
            "Epoch 25/100\n",
            "39/39 [==============================] - 27s 690ms/step - loss: 4.5029e-05 - accuracy: 1.0000 - val_loss: 0.1301 - val_accuracy: 0.9618\n",
            "Epoch 26/100\n",
            "39/39 [==============================] - 27s 688ms/step - loss: 4.3975e-05 - accuracy: 1.0000 - val_loss: 0.1306 - val_accuracy: 0.9618\n",
            "Epoch 27/100\n",
            "39/39 [==============================] - 27s 688ms/step - loss: 3.9355e-05 - accuracy: 1.0000 - val_loss: 0.1309 - val_accuracy: 0.9618\n",
            "Epoch 28/100\n",
            "39/39 [==============================] - 27s 687ms/step - loss: 3.6411e-05 - accuracy: 1.0000 - val_loss: 0.1315 - val_accuracy: 0.9618\n",
            "Epoch 29/100\n",
            "39/39 [==============================] - 27s 688ms/step - loss: 3.3848e-05 - accuracy: 1.0000 - val_loss: 0.1317 - val_accuracy: 0.9618\n",
            "Epoch 30/100\n",
            "39/39 [==============================] - 28s 711ms/step - loss: 3.0911e-05 - accuracy: 1.0000 - val_loss: 0.1326 - val_accuracy: 0.9618\n",
            "Epoch 31/100\n",
            "39/39 [==============================] - 27s 688ms/step - loss: 2.9613e-05 - accuracy: 1.0000 - val_loss: 0.1331 - val_accuracy: 0.9618\n",
            "Epoch 32/100\n",
            "39/39 [==============================] - 27s 689ms/step - loss: 2.5767e-05 - accuracy: 1.0000 - val_loss: 0.1332 - val_accuracy: 0.9618\n",
            "Epoch 33/100\n",
            "39/39 [==============================] - 27s 688ms/step - loss: 2.6025e-05 - accuracy: 1.0000 - val_loss: 0.1335 - val_accuracy: 0.9618\n",
            "Epoch 34/100\n",
            "39/39 [==============================] - 27s 688ms/step - loss: 2.5305e-05 - accuracy: 1.0000 - val_loss: 0.1342 - val_accuracy: 0.9618\n",
            "Epoch 35/100\n",
            "39/39 [==============================] - 27s 687ms/step - loss: 2.3985e-05 - accuracy: 1.0000 - val_loss: 0.1347 - val_accuracy: 0.9627\n",
            "Epoch 36/100\n",
            "39/39 [==============================] - 27s 687ms/step - loss: 2.1310e-05 - accuracy: 1.0000 - val_loss: 0.1351 - val_accuracy: 0.9627\n",
            "Epoch 37/100\n",
            "39/39 [==============================] - 27s 688ms/step - loss: 2.0466e-05 - accuracy: 1.0000 - val_loss: 0.1357 - val_accuracy: 0.9627\n",
            "Epoch 38/100\n",
            "39/39 [==============================] - 27s 688ms/step - loss: 1.8927e-05 - accuracy: 1.0000 - val_loss: 0.1361 - val_accuracy: 0.9627\n",
            "Epoch 39/100\n",
            "39/39 [==============================] - 27s 688ms/step - loss: 1.7456e-05 - accuracy: 1.0000 - val_loss: 0.1364 - val_accuracy: 0.9627\n",
            "Epoch 40/100\n",
            "39/39 [==============================] - 27s 688ms/step - loss: 1.6905e-05 - accuracy: 1.0000 - val_loss: 0.1366 - val_accuracy: 0.9627\n",
            "Epoch 41/100\n",
            "39/39 [==============================] - 27s 688ms/step - loss: 1.6754e-05 - accuracy: 1.0000 - val_loss: 0.1372 - val_accuracy: 0.9627\n",
            "Epoch 42/100\n",
            "39/39 [==============================] - 27s 687ms/step - loss: 1.5337e-05 - accuracy: 1.0000 - val_loss: 0.1374 - val_accuracy: 0.9627\n",
            "Epoch 43/100\n",
            "39/39 [==============================] - 27s 689ms/step - loss: 1.5203e-05 - accuracy: 1.0000 - val_loss: 0.1380 - val_accuracy: 0.9627\n",
            "Epoch 44/100\n",
            "39/39 [==============================] - 27s 688ms/step - loss: 1.3527e-05 - accuracy: 1.0000 - val_loss: 0.1383 - val_accuracy: 0.9627\n",
            "Epoch 45/100\n",
            "39/39 [==============================] - 27s 689ms/step - loss: 1.3297e-05 - accuracy: 1.0000 - val_loss: 0.1386 - val_accuracy: 0.9627\n",
            "Epoch 46/100\n",
            "39/39 [==============================] - 27s 688ms/step - loss: 1.2359e-05 - accuracy: 1.0000 - val_loss: 0.1389 - val_accuracy: 0.9627\n",
            "Epoch 47/100\n",
            "39/39 [==============================] - 27s 688ms/step - loss: 1.1952e-05 - accuracy: 1.0000 - val_loss: 0.1392 - val_accuracy: 0.9627\n",
            "Epoch 48/100\n",
            "39/39 [==============================] - 27s 688ms/step - loss: 1.1716e-05 - accuracy: 1.0000 - val_loss: 0.1394 - val_accuracy: 0.9627\n",
            "Epoch 49/100\n",
            "39/39 [==============================] - 27s 688ms/step - loss: 1.1194e-05 - accuracy: 1.0000 - val_loss: 0.1400 - val_accuracy: 0.9627\n",
            "Epoch 50/100\n",
            "39/39 [==============================] - 27s 688ms/step - loss: 1.0327e-05 - accuracy: 1.0000 - val_loss: 0.1403 - val_accuracy: 0.9627\n",
            "Epoch 51/100\n",
            "39/39 [==============================] - 27s 688ms/step - loss: 9.7193e-06 - accuracy: 1.0000 - val_loss: 0.1407 - val_accuracy: 0.9627\n",
            "Epoch 52/100\n",
            "39/39 [==============================] - 27s 688ms/step - loss: 9.8584e-06 - accuracy: 1.0000 - val_loss: 0.1412 - val_accuracy: 0.9627\n",
            "Epoch 53/100\n",
            "39/39 [==============================] - 27s 688ms/step - loss: 9.1405e-06 - accuracy: 1.0000 - val_loss: 0.1416 - val_accuracy: 0.9627\n",
            "Epoch 54/100\n",
            "39/39 [==============================] - 27s 688ms/step - loss: 8.8659e-06 - accuracy: 1.0000 - val_loss: 0.1419 - val_accuracy: 0.9627\n",
            "Epoch 55/100\n",
            "39/39 [==============================] - 27s 688ms/step - loss: 8.6272e-06 - accuracy: 1.0000 - val_loss: 0.1419 - val_accuracy: 0.9627\n",
            "Epoch 56/100\n",
            "39/39 [==============================] - 27s 687ms/step - loss: 7.9859e-06 - accuracy: 1.0000 - val_loss: 0.1423 - val_accuracy: 0.9627\n",
            "Epoch 57/100\n",
            "39/39 [==============================] - 27s 688ms/step - loss: 7.8382e-06 - accuracy: 1.0000 - val_loss: 0.1428 - val_accuracy: 0.9627\n",
            "Epoch 58/100\n",
            "39/39 [==============================] - 27s 688ms/step - loss: 7.5411e-06 - accuracy: 1.0000 - val_loss: 0.1431 - val_accuracy: 0.9627\n",
            "Epoch 59/100\n",
            "39/39 [==============================] - 27s 688ms/step - loss: 7.2498e-06 - accuracy: 1.0000 - val_loss: 0.1432 - val_accuracy: 0.9627\n",
            "Epoch 60/100\n",
            "39/39 [==============================] - 27s 686ms/step - loss: 6.8306e-06 - accuracy: 1.0000 - val_loss: 0.1434 - val_accuracy: 0.9627\n",
            "Epoch 61/100\n",
            "39/39 [==============================] - 27s 686ms/step - loss: 6.7181e-06 - accuracy: 1.0000 - val_loss: 0.1435 - val_accuracy: 0.9627\n",
            "Epoch 62/100\n",
            "39/39 [==============================] - 27s 688ms/step - loss: 6.8437e-06 - accuracy: 1.0000 - val_loss: 0.1439 - val_accuracy: 0.9627\n",
            "Epoch 63/100\n",
            "39/39 [==============================] - 27s 688ms/step - loss: 6.1678e-06 - accuracy: 1.0000 - val_loss: 0.1442 - val_accuracy: 0.9627\n",
            "Epoch 64/100\n",
            "39/39 [==============================] - 27s 688ms/step - loss: 6.0001e-06 - accuracy: 1.0000 - val_loss: 0.1447 - val_accuracy: 0.9627\n",
            "Epoch 65/100\n",
            "39/39 [==============================] - 27s 687ms/step - loss: 5.6604e-06 - accuracy: 1.0000 - val_loss: 0.1452 - val_accuracy: 0.9627\n",
            "Epoch 66/100\n",
            "39/39 [==============================] - 28s 709ms/step - loss: 5.7362e-06 - accuracy: 1.0000 - val_loss: 0.1453 - val_accuracy: 0.9627\n",
            "Epoch 67/100\n",
            "39/39 [==============================] - 27s 687ms/step - loss: 5.2462e-06 - accuracy: 1.0000 - val_loss: 0.1456 - val_accuracy: 0.9627\n",
            "Epoch 68/100\n",
            "39/39 [==============================] - 27s 689ms/step - loss: 5.3097e-06 - accuracy: 1.0000 - val_loss: 0.1459 - val_accuracy: 0.9627\n",
            "Epoch 69/100\n",
            "39/39 [==============================] - 27s 687ms/step - loss: 5.1449e-06 - accuracy: 1.0000 - val_loss: 0.1462 - val_accuracy: 0.9627\n",
            "Epoch 70/100\n",
            "39/39 [==============================] - 27s 688ms/step - loss: 4.8256e-06 - accuracy: 1.0000 - val_loss: 0.1464 - val_accuracy: 0.9627\n",
            "Epoch 71/100\n",
            "39/39 [==============================] - 27s 688ms/step - loss: 4.6593e-06 - accuracy: 1.0000 - val_loss: 0.1466 - val_accuracy: 0.9635\n",
            "Epoch 72/100\n",
            "39/39 [==============================] - 27s 688ms/step - loss: 4.4986e-06 - accuracy: 1.0000 - val_loss: 0.1469 - val_accuracy: 0.9635\n",
            "Epoch 73/100\n",
            "39/39 [==============================] - 27s 688ms/step - loss: 4.2053e-06 - accuracy: 1.0000 - val_loss: 0.1471 - val_accuracy: 0.9635\n",
            "Epoch 74/100\n",
            "39/39 [==============================] - 27s 688ms/step - loss: 4.2324e-06 - accuracy: 1.0000 - val_loss: 0.1476 - val_accuracy: 0.9635\n",
            "Epoch 75/100\n",
            "39/39 [==============================] - 27s 687ms/step - loss: 4.0661e-06 - accuracy: 1.0000 - val_loss: 0.1478 - val_accuracy: 0.9635\n",
            "Epoch 76/100\n",
            "39/39 [==============================] - 27s 689ms/step - loss: 4.1181e-06 - accuracy: 1.0000 - val_loss: 0.1480 - val_accuracy: 0.9635\n",
            "Epoch 77/100\n",
            "39/39 [==============================] - 27s 688ms/step - loss: 3.9123e-06 - accuracy: 1.0000 - val_loss: 0.1482 - val_accuracy: 0.9635\n",
            "Epoch 78/100\n",
            "39/39 [==============================] - 27s 685ms/step - loss: 3.7424e-06 - accuracy: 1.0000 - val_loss: 0.1484 - val_accuracy: 0.9644\n",
            "Epoch 79/100\n",
            "39/39 [==============================] - 27s 688ms/step - loss: 3.5050e-06 - accuracy: 1.0000 - val_loss: 0.1488 - val_accuracy: 0.9635\n",
            "Epoch 80/100\n",
            "39/39 [==============================] - 27s 686ms/step - loss: 3.4969e-06 - accuracy: 1.0000 - val_loss: 0.1488 - val_accuracy: 0.9644\n",
            "Epoch 81/100\n",
            "39/39 [==============================] - 27s 686ms/step - loss: 3.1497e-06 - accuracy: 1.0000 - val_loss: 0.1491 - val_accuracy: 0.9644\n",
            "Epoch 82/100\n",
            "39/39 [==============================] - 27s 687ms/step - loss: 3.2493e-06 - accuracy: 1.0000 - val_loss: 0.1494 - val_accuracy: 0.9644\n",
            "Epoch 83/100\n",
            "39/39 [==============================] - 27s 688ms/step - loss: 3.2542e-06 - accuracy: 1.0000 - val_loss: 0.1497 - val_accuracy: 0.9644\n",
            "Epoch 84/100\n",
            "39/39 [==============================] - 27s 687ms/step - loss: 3.0101e-06 - accuracy: 1.0000 - val_loss: 0.1502 - val_accuracy: 0.9644\n",
            "Epoch 85/100\n",
            "39/39 [==============================] - 27s 687ms/step - loss: 3.0583e-06 - accuracy: 1.0000 - val_loss: 0.1505 - val_accuracy: 0.9644\n",
            "Epoch 86/100\n",
            "39/39 [==============================] - 27s 687ms/step - loss: 2.8987e-06 - accuracy: 1.0000 - val_loss: 0.1506 - val_accuracy: 0.9644\n",
            "Epoch 87/100\n",
            "39/39 [==============================] - 27s 688ms/step - loss: 2.8048e-06 - accuracy: 1.0000 - val_loss: 0.1509 - val_accuracy: 0.9644\n",
            "Epoch 88/100\n",
            "39/39 [==============================] - 27s 688ms/step - loss: 2.7910e-06 - accuracy: 1.0000 - val_loss: 0.1512 - val_accuracy: 0.9644\n",
            "Epoch 89/100\n",
            "39/39 [==============================] - 27s 688ms/step - loss: 2.7448e-06 - accuracy: 1.0000 - val_loss: 0.1512 - val_accuracy: 0.9644\n",
            "Epoch 90/100\n",
            "39/39 [==============================] - 27s 688ms/step - loss: 2.7246e-06 - accuracy: 1.0000 - val_loss: 0.1514 - val_accuracy: 0.9644\n",
            "Epoch 91/100\n",
            "39/39 [==============================] - 27s 687ms/step - loss: 2.4810e-06 - accuracy: 1.0000 - val_loss: 0.1518 - val_accuracy: 0.9644\n",
            "Epoch 92/100\n",
            "39/39 [==============================] - 27s 687ms/step - loss: 2.4470e-06 - accuracy: 1.0000 - val_loss: 0.1520 - val_accuracy: 0.9644\n",
            "Epoch 93/100\n",
            "39/39 [==============================] - 27s 687ms/step - loss: 2.3536e-06 - accuracy: 1.0000 - val_loss: 0.1522 - val_accuracy: 0.9644\n",
            "Epoch 94/100\n",
            "39/39 [==============================] - 27s 687ms/step - loss: 2.3374e-06 - accuracy: 1.0000 - val_loss: 0.1525 - val_accuracy: 0.9635\n",
            "Epoch 95/100\n",
            "39/39 [==============================] - 28s 708ms/step - loss: 2.1454e-06 - accuracy: 1.0000 - val_loss: 0.1528 - val_accuracy: 0.9635\n",
            "Epoch 96/100\n",
            "39/39 [==============================] - 27s 687ms/step - loss: 2.1364e-06 - accuracy: 1.0000 - val_loss: 0.1529 - val_accuracy: 0.9644\n",
            "Epoch 97/100\n",
            "39/39 [==============================] - 27s 689ms/step - loss: 2.0165e-06 - accuracy: 1.0000 - val_loss: 0.1531 - val_accuracy: 0.9644\n",
            "Epoch 98/100\n",
            "39/39 [==============================] - 27s 687ms/step - loss: 2.0420e-06 - accuracy: 1.0000 - val_loss: 0.1535 - val_accuracy: 0.9635\n",
            "Epoch 99/100\n",
            "39/39 [==============================] - 27s 689ms/step - loss: 1.9327e-06 - accuracy: 1.0000 - val_loss: 0.1536 - val_accuracy: 0.9635\n",
            "Epoch 100/100\n",
            "39/39 [==============================] - 27s 687ms/step - loss: 1.8421e-06 - accuracy: 1.0000 - val_loss: 0.1538 - val_accuracy: 0.9635\n"
          ]
        }
      ]
    },
    {
      "cell_type": "markdown",
      "metadata": {
        "id": "v8BDr4Hq9Lf0"
      },
      "source": [
        "#Análise dos Dados"
      ]
    },
    {
      "cell_type": "code",
      "metadata": {
        "colab": {
          "base_uri": "https://localhost:8080/",
          "height": 315
        },
        "id": "_mw0mYUspVev",
        "outputId": "7e474837-e557-4767-cbd4-50e52d51aebe"
      },
      "source": [
        "plt.plot(historico.history['loss'])\n",
        "plt.plot(historico.history['val_loss'])\n",
        "plt.title('Progresso da função de perda do modelo durante o treinamento e validação')\n",
        "plt.xlabel('Épocas')\n",
        "plt.ylabel('Perda')\n",
        "plt.legend(['Perda no treino 1', 'Perda na validação 1'])"
      ],
      "execution_count": 26,
      "outputs": [
        {
          "output_type": "execute_result",
          "data": {
            "text/plain": [
              "<matplotlib.legend.Legend at 0x7fb0e16ca550>"
            ]
          },
          "metadata": {},
          "execution_count": 26
        },
        {
          "output_type": "display_data",
          "data": {
            "image/png": "[encoded data removed]",
            "text/plain": [
              "<Figure size 432x288 with 1 Axes>"
            ]
          },
          "metadata": {
            "needs_background": "light"
          }
        }
      ]
    },
    {
      "cell_type": "code",
      "metadata": {
        "colab": {
          "base_uri": "https://localhost:8080/",
          "height": 315
        },
        "id": "vUD4ciNuvknR",
        "outputId": "b394e61b-1382-4ce4-c337-ea9e2d8e667b"
      },
      "source": [
        "plt.plot(historico.history['accuracy'])\n",
        "plt.plot(historico.history['val_accuracy'])\n",
        "plt.title('Acurácia durante o treinamento e validação')\n",
        "plt.xlabel('Épocas')\n",
        "plt.ylabel('Acurácia')\n",
        "plt.legend(['Acurácia no treino', 'Acurácia na validação'])"
      ],
      "execution_count": 27,
      "outputs": [
        {
          "output_type": "execute_result",
          "data": {
            "text/plain": [
              "<matplotlib.legend.Legend at 0x7fb0e35b9ad0>"
            ]
          },
          "metadata": {},
          "execution_count": 27
        },
        {
          "output_type": "display_data",
          "data": {
            "image/png": "[encoded data removed]",
            "text/plain": [
              "<Figure size 432x288 with 1 Axes>"
            ]
          },
          "metadata": {
            "needs_background": "light"
          }
        }
      ]
    },
    {
      "cell_type": "code",
      "metadata": {
        "colab": {
          "base_uri": "https://localhost:8080/"
        },
        "id": "_2saJAr81TUy",
        "outputId": "925cd30f-bfe4-4982-abe7-d67b30c83419"
      },
      "source": [
        "noticias_test = noticias_test.astype(np.int64)\n",
        "classes_test = classes_test.astype(np.int64)\n",
        "print(noticias_test.shape)\n",
        "results = Dcnn.evaluate(noticias_test, classes_test, batch_size = batch_size_val)\n",
        "print(results)"
      ],
      "execution_count": 28,
      "outputs": [
        {
          "output_type": "stream",
          "name": "stdout",
          "text": [
            "(1440, 4324)\n",
            "60/60 [==============================] - 4s 53ms/step - loss: 0.1578 - accuracy: 0.9646\n",
            "[0.157752126455307, 0.9645833373069763]\n"
          ]
        }
      ]
    },
    {
      "cell_type": "code",
      "metadata": {
        "id": "6qnoDIzBJXBQ"
      },
      "source": [
        "classes_test_pred = Dcnn.predict(noticias_test)\n"
      ],
      "execution_count": 29,
      "outputs": []
    },
    {
      "cell_type": "code",
      "metadata": {
        "id": "E1JuF8HjJhGP",
        "colab": {
          "base_uri": "https://localhost:8080/"
        },
        "outputId": "24522992-4855-4c1f-e2dc-25017468f809"
      },
      "source": [
        "# Tamanho do conjunto de testes predito (somente para visualização)\n",
        "print(classes_test_pred.size)\n",
        "# Predições para cada uma das classes (probabilidade em %)\n",
        "print(classes_test_pred)"
      ],
      "execution_count": 30,
      "outputs": [
        {
          "output_type": "stream",
          "name": "stdout",
          "text": [
            "1440\n",
            "[[1.3544074e-07]\n",
            " [1.0000000e+00]\n",
            " [2.3442465e-04]\n",
            " ...\n",
            " [2.4232691e-07]\n",
            " [1.0000000e+00]\n",
            " [3.3807105e-08]]\n"
          ]
        }
      ]
    },
    {
      "cell_type": "code",
      "metadata": {
        "id": "LAW0XulvJpZs",
        "colab": {
          "base_uri": "https://localhost:8080/"
        },
        "outputId": "54e4e79e-938b-4fa9-8a14-5e8f98dfa1e9"
      },
      "source": [
        "# Define um limiar para a classificação: true, false (50%)\n",
        "classes_test_pred = (classes_test_pred > 0.5)\n",
        "print(classes_test_pred)"
      ],
      "execution_count": 31,
      "outputs": [
        {
          "output_type": "stream",
          "name": "stdout",
          "text": [
            "[[False]\n",
            " [ True]\n",
            " [False]\n",
            " ...\n",
            " [False]\n",
            " [ True]\n",
            " [False]]\n"
          ]
        }
      ]
    },
    {
      "cell_type": "code",
      "metadata": {
        "colab": {
          "base_uri": "https://localhost:8080/"
        },
        "id": "Xmhl61tOS4Ux",
        "outputId": "9ce64d37-b9bb-4196-fb40-4ef8379e596d"
      },
      "source": [
        "cm = confusion_matrix(classes_test, classes_test_pred)\n",
        "cm"
      ],
      "execution_count": 32,
      "outputs": [
        {
          "output_type": "execute_result",
          "data": {
            "text/plain": [
              "array([[705,  15],\n",
              "       [ 36, 684]])"
            ]
          },
          "metadata": {},
          "execution_count": 32
        }
      ]
    },
    {
      "cell_type": "code",
      "metadata": {
        "id": "-v_4pXvLTDGB",
        "colab": {
          "base_uri": "https://localhost:8080/",
          "height": 299
        },
        "outputId": "3598021d-cb2d-49ad-8c99-f7ec04827658"
      },
      "source": [
        "sns.heatmap(cm, annot=True)\n",
        "plt.title('Matriz de confusão do classificador')"
      ],
      "execution_count": 33,
      "outputs": [
        {
          "output_type": "execute_result",
          "data": {
            "text/plain": [
              "Text(0.5, 1.0, 'Matriz de confusão do classificador')"
            ]
          },
          "metadata": {},
          "execution_count": 33
        },
        {
          "output_type": "display_data",
          "data": {
            "image/png": "[encoded data removed]",
            "text/plain": [
              "<Figure size 432x288 with 2 Axes>"
            ]
          },
          "metadata": {
            "needs_background": "light"
          }
        }
      ]
    },
    {
      "cell_type": "markdown",
      "metadata": {
        "id": "MckWlkT2eMdC"
      },
      "source": [
        "#Novas Previsões"
      ]
    },
    {
      "cell_type": "code",
      "metadata": {
        "id": "L92O5gdv5227"
      },
      "source": [
        "#Remove caracteres especiais\n",
        "\n",
        "def clean_text(text):\n",
        "  text = BeautifulSoup(text, 'lxml').get_text()\n",
        "  text = re.sub(r\"@[A-Za-z0-9]+\", ' ', text)\n",
        "  text = re.sub(r\"https?://[A-Za-z0-9./]+\", ' ', text)\n",
        "  text = re.sub(r\"[^a-zA-Z.!?]\", ' ', text)\n",
        "  text = re.sub(r\" +\", ' ', text)\n",
        "  return text"
      ],
      "execution_count": null,
      "outputs": []
    },
    {
      "cell_type": "code",
      "metadata": {
        "id": "XpYh9hxv59L8"
      },
      "source": [
        "#remove Stopwords\n",
        "\n",
        "!python -m spacy download pt\n",
        "nlp = sp.load('pt')\n",
        "nltk.download('stopwords')\n",
        "stopwords = nltk.corpus.stopwords.words('portuguese')\n",
        "\n",
        "def clean_sw(text):\n",
        "  text = text.lower()\n",
        "  document = nlp(text)\n",
        "\n",
        "  words = []\n",
        "  for token in document:\n",
        "    words.append(token.text)\n",
        "\n",
        "  words = [word for word in words if word not in stopwords and word not in string.punctuation]\n",
        "  words = ' '.join([str(element) for element in words])\n",
        "\n",
        "  return text"
      ],
      "execution_count": null,
      "outputs": []
    },
    {
      "cell_type": "code",
      "metadata": {
        "colab": {
          "base_uri": "https://localhost:8080/"
        },
        "id": "usiUDofS6UI8",
        "outputId": "8b51a743-9ac3-4919-e7b5-33ddfaed37e6"
      },
      "source": [
        "text = 'Tristemente, como alguem pode votar em boulos. Joice merecia mais votos que ele outros no ranking. Isso se não teve fraude a eleicao em sp esta congelada em'\n",
        "text = clean_text(clean_sw(text))\n",
        "print(text)\n",
        "text = tokenizer.encode(text)"
      ],
      "execution_count": null,
      "outputs": [
        {
          "output_type": "stream",
          "text": [
            "tristemente como alguem pode votar em boulos. joice merecia mais votos que ele outros no ranking. isso se n o teve fraude a eleicao em sp esta congelada em\n"
          ],
          "name": "stdout"
        }
      ]
    },
    {
      "cell_type": "code",
      "metadata": {
        "colab": {
          "base_uri": "https://localhost:8080/"
        },
        "id": "yP0Q5dcO6a7M",
        "outputId": "45c0a575-b010-40e0-9d6c-48aae5a28812"
      },
      "source": [
        "pred= Dcnn(np.array([text]), training=False).numpy()\n",
        "pred = (pred >0.5)\n",
        "print(pred)"
      ],
      "execution_count": null,
      "outputs": [
        {
          "output_type": "stream",
          "text": [
            "[[ True]]\n"
          ],
          "name": "stdout"
        }
      ]
    },
    {
      "cell_type": "code",
      "metadata": {
        "id": "K8iOMvMP6GOJ"
      },
      "source": [
        ""
      ],
      "execution_count": null,
      "outputs": []
    },
    {
      "cell_type": "code",
      "metadata": {
        "id": "SEt3F-vx6GME"
      },
      "source": [
        ""
      ],
      "execution_count": null,
      "outputs": []
    },
    {
      "cell_type": "markdown",
      "metadata": {
        "id": "-GZ6hjeW50YY"
      },
      "source": [
        ""
      ]
    }
  ]
}